{
 "cells": [
  {
   "cell_type": "code",
   "execution_count": 2,
   "id": "4fa34556",
   "metadata": {},
   "outputs": [],
   "source": [
    "import os\n",
    "import numpy as np\n",
    "import json"
   ]
  },
  {
   "cell_type": "code",
   "execution_count": 3,
   "id": "45d54dc9",
   "metadata": {},
   "outputs": [],
   "source": [
    "img_path = 'Test Data'"
   ]
  },
  {
   "cell_type": "code",
   "execution_count": 4,
   "id": "9d033015",
   "metadata": {},
   "outputs": [],
   "source": [
    "## check for correct length\n",
    "for img in os.listdir(img_path):\n",
    "    split = img.split('.')\n",
    "    if len(split[0])!=12 and split[1] != 'DS_Store':\n",
    "        print(len(split[0]), img)"
   ]
  },
  {
   "cell_type": "code",
   "execution_count": 5,
   "id": "7b74c59b",
   "metadata": {},
   "outputs": [
    {
     "name": "stdout",
     "output_type": "stream",
     "text": [
      "34\n"
     ]
    }
   ],
   "source": [
    "labels = [img.split('.')[0] for img in os.listdir(img_path) if img.split('.')[1]!='DS_Store']\n",
    "print(len(labels))"
   ]
  },
  {
   "cell_type": "code",
   "execution_count": 6,
   "id": "3057e979",
   "metadata": {},
   "outputs": [],
   "source": [
    "txt_path = img_path + '/labels.txt'"
   ]
  },
  {
   "cell_type": "code",
   "execution_count": 7,
   "id": "837bafc2",
   "metadata": {},
   "outputs": [],
   "source": [
    "with open(txt_path, 'w') as f:\n",
    "    for l in labels:\n",
    "        f.write(l +\"\\n\")"
   ]
  },
  {
   "cell_type": "code",
   "execution_count": 93,
   "id": "7119bb40",
   "metadata": {},
   "outputs": [],
   "source": [
    "# test open\n",
    "score = []\n",
    "with open(txt_path, \"r\") as f:\n",
    "    for line in f:\n",
    "        score.append(line.strip())"
   ]
  }
 ],
 "metadata": {
  "kernelspec": {
   "display_name": "Python 3 (ipykernel)",
   "language": "python",
   "name": "python3"
  },
  "language_info": {
   "codemirror_mode": {
    "name": "ipython",
    "version": 3
   },
   "file_extension": ".py",
   "mimetype": "text/x-python",
   "name": "python",
   "nbconvert_exporter": "python",
   "pygments_lexer": "ipython3",
   "version": "3.9.16"
  }
 },
 "nbformat": 4,
 "nbformat_minor": 5
}

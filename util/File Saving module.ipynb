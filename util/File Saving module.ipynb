{
 "cells": [
  {
   "attachments": {},
   "cell_type": "markdown",
   "id": "0afd2bc5",
   "metadata": {},
   "source": [
    "### This module was used to extract the labels from the image names and group them into a list placed into a .txt file."
   ]
  },
  {
   "cell_type": "code",
   "execution_count": null,
   "id": "4fa34556",
   "metadata": {},
   "outputs": [],
   "source": [
    "import os\n",
    "import numpy as np\n",
    "import json"
   ]
  },
  {
   "cell_type": "code",
   "execution_count": 12,
   "id": "45d54dc9",
   "metadata": {},
   "outputs": [],
   "source": [
    "# Image Directory Path\n",
    "img_path = '../Data/Test Data/'"
   ]
  },
  {
   "cell_type": "code",
   "execution_count": 4,
   "id": "9d033015",
   "metadata": {},
   "outputs": [],
   "source": [
    "# Check for correct label length\n",
    "for img in os.listdir(img_path):\n",
    "    split = img.split('.')\n",
    "    if len(split[0])!=12 and split[1] != 'DS_Store':\n",
    "        print(len(split[0]), img)"
   ]
  },
  {
   "cell_type": "code",
   "execution_count": 22,
   "id": "7b74c59b",
   "metadata": {},
   "outputs": [
    {
     "name": "stdout",
     "output_type": "stream",
     "text": [
      "34\n"
     ]
    }
   ],
   "source": [
    "# Save labels\n",
    "labels = [img.split('.')[0] for img in os.listdir(img_path) if (img.split('.')[1]!='DS_Store' and len(img.split('.')[0])==12)]\n",
    "print(len(labels))"
   ]
  },
  {
   "cell_type": "code",
   "execution_count": 24,
   "id": "3057e979",
   "metadata": {},
   "outputs": [],
   "source": [
    "# .txt file path\n",
    "txt_path = img_path + 'labels.txt'"
   ]
  },
  {
   "cell_type": "code",
   "execution_count": 25,
   "id": "837bafc2",
   "metadata": {},
   "outputs": [],
   "source": [
    "# Save labels to .txt file\n",
    "with open(txt_path, 'w') as f:\n",
    "    for l in labels:\n",
    "        f.write(l +\"\\n\")"
   ]
  },
  {
   "cell_type": "code",
   "execution_count": 26,
   "id": "7119bb40",
   "metadata": {},
   "outputs": [],
   "source": [
    "# Test if labels are saved correctly\n",
    "test_open = []\n",
    "with open(txt_path, \"r\") as f:\n",
    "    for line in f:\n",
    "        test_open.append(line.strip())\n",
    "\n",
    "assert(test_open == labels)"
   ]
  }
 ],
 "metadata": {
  "kernelspec": {
   "display_name": "Python 3",
   "language": "python",
   "name": "python3"
  },
  "language_info": {
   "codemirror_mode": {
    "name": "ipython",
    "version": 3
   },
   "file_extension": ".py",
   "mimetype": "text/x-python",
   "name": "python",
   "nbconvert_exporter": "python",
   "pygments_lexer": "ipython3",
   "version": "3.10.9"
  },
  "vscode": {
   "interpreter": {
    "hash": "aee8b7b246df8f9039afb4144a1f6fd8d2ca17a180786b69acc140d282b71a49"
   }
  }
 },
 "nbformat": 4,
 "nbformat_minor": 5
}

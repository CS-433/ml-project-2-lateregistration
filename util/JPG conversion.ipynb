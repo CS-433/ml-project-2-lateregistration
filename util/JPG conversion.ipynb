{
 "cells": [
  {
   "attachments": {},
   "cell_type": "markdown",
   "id": "4fd47c48",
   "metadata": {},
   "source": [
    "#### In this module, we convert HEIF (iPhone) pictures to jpeg. We initially did so by having a script rename the image extentions, however this was wrong, it led to multiple errors when we tried to open the images in code."
   ]
  },
  {
   "cell_type": "code",
   "execution_count": 12,
   "id": "c42780a9",
   "metadata": {},
   "outputs": [],
   "source": [
    "import os\n",
    "import subprocess\n",
    "from PIL import Image"
   ]
  },
  {
   "cell_type": "code",
   "execution_count": 28,
   "id": "71bd4463",
   "metadata": {},
   "outputs": [],
   "source": [
    "# The path to the folder where the original images are stored, and the path to the folder where the converted images will be stored.\n",
    "img_dir_path = 'convert/'\n",
    "im_converted = 'Test Data/'"
   ]
  },
  {
   "cell_type": "code",
   "execution_count": 26,
   "id": "97e76f1c",
   "metadata": {},
   "outputs": [],
   "source": [
    "# rename the images' extension from .jpeg to .HEIF\n",
    "for filename in os.listdir(img_dir_path):\n",
    "    infilename = os.path.join(img_dir_path,filename)\n",
    "    if os.path.isfile(infilename):\n",
    "        oldbase = os.path.splitext(filename)\n",
    "        newname = infilename.replace('.jpeg', '.HEIF')\n",
    "        output = os.rename(infilename, newname)"
   ]
  },
  {
   "cell_type": "code",
   "execution_count": 29,
   "id": "540760a4",
   "metadata": {},
   "outputs": [
    {
     "name": "stdout",
     "output_type": "stream",
     "text": [
      "Converting convert/000100101100.HEIF...\n",
      "Converting convert/000000001111.HEIF...\n",
      "Converting convert/011100001000.HEIF...\n",
      "Converting convert/001010010100.HEIF...\n",
      "Converting convert/001011000001.HEIF...\n",
      "Converting convert/001111000000.HEIF...\n",
      "Converting convert/001110000100.HEIF...\n",
      "Converting convert/000001101001.HEIF...\n",
      "Converting convert/010110100000.HEIF...\n",
      "Converting convert/001011010000.HEIF...\n",
      "Converting convert/000000011110.HEIF...\n",
      "Converting convert/100100000110.HEIF...\n",
      "Converting convert/111000000001.HEIF...\n",
      "Converting convert/100100100100.HEIF...\n",
      "Converting convert/111100000000.HEIF...\n",
      "Converting convert/111000010000.HEIF...\n",
      "Converting convert/001001001001.HEIF...\n",
      "Converting convert/010000111000.HEIF...\n",
      "Converting convert/000010000111.HEIF...\n",
      "Converting convert/001101001000.HEIF...\n",
      "Converting convert/000011110000.HEIF...\n",
      "Converting convert/000011100001.HEIF...\n",
      "Converting convert/010000001011.HEIF...\n",
      "Converting convert/010100001010.HEIF...\n",
      "Converting convert/000010010110.HEIF...\n",
      "Converting convert/001001011000.HEIF...\n",
      "Converting convert/001000001101.HEIF...\n",
      "Converting convert/110000010010.HEIF...\n",
      "Converting convert/101000010100.HEIF...\n",
      "Converting convert/110000100001.HEIF...\n",
      "Converting convert/101000000101.HEIF...\n",
      "Converting convert/101001010000.HEIF...\n",
      "Converting convert/110000000011.HEIF...\n",
      "Converting convert/110100100000.HEIF...\n"
     ]
    }
   ],
   "source": [
    "# convert the images from HEIF to JPG properly\n",
    "for filename in os.listdir(img_dir_path):\n",
    "    if filename.lower().endswith(\".heif\"): \n",
    "        print('Converting %s...' % os.path.join(img_dir_path, filename))\n",
    "        subprocess.run([\"magick\", \"%s\" % img_dir_path+filename, \"%s\" % (im_converted + filename[0:-5] + '.jpg')])\n",
    "        continue"
   ]
  },
  {
   "cell_type": "code",
   "execution_count": 34,
   "id": "613e659c",
   "metadata": {},
   "outputs": [],
   "source": [
    "# Test if the image is opened correctly\n",
    "im = Image.open('Test Data/001000001101.jpg')\n",
    "im.close()"
   ]
  }
 ],
 "metadata": {
  "kernelspec": {
   "display_name": "Python 3 (ipykernel)",
   "language": "python",
   "name": "python3"
  },
  "language_info": {
   "codemirror_mode": {
    "name": "ipython",
    "version": 3
   },
   "file_extension": ".py",
   "mimetype": "text/x-python",
   "name": "python",
   "nbconvert_exporter": "python",
   "pygments_lexer": "ipython3",
   "version": "3.9.16"
  }
 },
 "nbformat": 4,
 "nbformat_minor": 5
}

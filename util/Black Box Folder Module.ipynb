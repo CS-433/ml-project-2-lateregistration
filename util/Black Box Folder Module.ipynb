{
 "cells": [
  {
   "cell_type": "code",
   "execution_count": 1,
   "id": "e35a0ac4",
   "metadata": {},
   "outputs": [],
   "source": [
    "import os\n",
    "import shutil\n",
    "import json\n",
    "import numpy as np"
   ]
  },
  {
   "cell_type": "code",
   "execution_count": 4,
   "id": "258c4e4b",
   "metadata": {},
   "outputs": [],
   "source": [
    "# put each img in a direactory named after it\n",
    "\n",
    "dir_path = 'BBTeD/'\n",
    "\n",
    "for img in os.listdir(dir_path):\n",
    "    split = img.split('.')\n",
    "    if split[1] != 'DS_Store':\n",
    "        new_dir_path = dir_path + split[0]\n",
    "        os.mkdir(new_dir_path)\n",
    "        shutil.move(dir_path + img, new_dir_path)"
   ]
  },
  {
   "cell_type": "code",
   "execution_count": 5,
   "id": "b8463e58",
   "metadata": {},
   "outputs": [],
   "source": [
    "# verify that each dir is none empty\n",
    "for dir_ in os.listdir(dir_path):\n",
    "    it_dir_path = dir_path + dir_\n",
    "    if dir_ != '.DS_Store':\n",
    "        assert(len(os.listdir(it_dir_path)) != 0)"
   ]
  }
 ],
 "metadata": {
  "kernelspec": {
   "display_name": "Python 3 (ipykernel)",
   "language": "python",
   "name": "python3"
  },
  "language_info": {
   "codemirror_mode": {
    "name": "ipython",
    "version": 3
   },
   "file_extension": ".py",
   "mimetype": "text/x-python",
   "name": "python",
   "nbconvert_exporter": "python",
   "pygments_lexer": "ipython3",
   "version": "3.9.16"
  }
 },
 "nbformat": 4,
 "nbformat_minor": 5
}
